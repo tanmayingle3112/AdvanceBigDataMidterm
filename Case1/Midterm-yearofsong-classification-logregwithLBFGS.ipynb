{
 "cells": [
  {
   "cell_type": "code",
   "execution_count": 1,
   "metadata": {
    "collapsed": true
   },
   "outputs": [],
   "source": [
    "from pyspark import SparkConf, SparkContext\n",
    "sc = SparkContext(appName=\"ClassificationsongLBFGS\")"
   ]
  },
  {
   "cell_type": "code",
   "execution_count": 2,
   "metadata": {
    "collapsed": true
   },
   "outputs": [],
   "source": [
    "from pyspark.mllib.regression import LabeledPoint\n",
    "from sklearn import metrics\n",
    "from numpy import array\n",
    "import numpy as np\n",
    "from sklearn.metrics import roc_auc_score\n",
    "from sklearn.metrics import average_precision_score\n",
    "from sklearn.metrics import confusion_matrix\n",
    "from pyspark.mllib.classification import LogisticRegressionWithSGD, LogisticRegressionModel,SVMWithSGD, SVMModel,LogisticRegressionWithLBFGS"
   ]
  },
  {
   "cell_type": "code",
   "execution_count": 3,
   "metadata": {
    "collapsed": true
   },
   "outputs": [],
   "source": [
    "data = sc.textFile(\"D://NEU - Big Data and Intelligent Analytics/Midterm/YearPredictionMSD.txt\")"
   ]
  },
  {
   "cell_type": "code",
   "execution_count": 4,
   "metadata": {
    "collapsed": true
   },
   "outputs": [],
   "source": [
    "#def parsePoint(line):\n",
    " #   values = [float(x) for x in line.replace(';', ' ').split(' ')]\n",
    "  #  return LabeledPoint(values[0], values[1:])\n",
    "\n",
    "def line_to_fields(line):\n",
    "    space_separated_line = line.replace(',', ' ')\n",
    "    string_array = space_separated_line.split(' ')\n",
    "    float_array = map(float, string_array)\n",
    "    if float_array[0]<1965.0:\n",
    "        return LabeledPoint(0.0, float_array[1:])\n",
    "    else:\n",
    "        return LabeledPoint(1.0, float_array[1:])"
   ]
  },
  {
   "cell_type": "code",
   "execution_count": 5,
   "metadata": {
    "collapsed": true
   },
   "outputs": [],
   "source": [
    "parsedData = data.map(line_to_fields)"
   ]
  },
  {
   "cell_type": "code",
   "execution_count": 6,
   "metadata": {
    "collapsed": false
   },
   "outputs": [],
   "source": [
    "from pyspark.mllib.util import MLUtils\n",
    "from pyspark.mllib.linalg import Vectors\n",
    "from pyspark.mllib.feature import StandardScaler\n",
    "\n",
    "label1 = parsedData.map(lambda x: x.label)\n",
    "features1 = parsedData.map(lambda x: x.features)\n",
    "\n",
    "scaler2 = StandardScaler(withMean=True, withStd=True).fit(features1)\n",
    "data2 = label1.zip(scaler2.transform(features1.map(lambda x: Vectors.dense(x.toArray()))))"
   ]
  },
  {
   "cell_type": "code",
   "execution_count": 7,
   "metadata": {
    "collapsed": true
   },
   "outputs": [],
   "source": [
    "x = np.array(data2)\n",
    "x = data2.map(lambda x: x[0])\n",
    "y = data2.map(lambda x: x[1])\n",
    "z = data2.map(lambda x: LabeledPoint((x[0]),(x[1])))\n",
    "\n",
    "#Spliting data into training and test data\n",
    "(trainingData, testData) = z.randomSplit([0.7, 0.3])"
   ]
  },
  {
   "cell_type": "code",
   "execution_count": 8,
   "metadata": {
    "collapsed": false
   },
   "outputs": [],
   "source": [
    "# Build the model\n",
    "model = LogisticRegressionWithLBFGS.train(trainingData, iterations=100,regParam= 0.1)"
   ]
  },
  {
   "cell_type": "code",
   "execution_count": 9,
   "metadata": {
    "collapsed": false
   },
   "outputs": [
    {
     "name": "stdout",
     "output_type": "stream",
     "text": [
      "Accuracy(training) = 0.596630478176\n"
     ]
    }
   ],
   "source": [
    "# Evaluating the model on training data\n",
    "labelsAndPreds = trainingData.map(lambda p: (p.label, model.predict(p.features))).cache()\n",
    "accuracy_training = labelsAndPreds.filter(lambda (v, p): v == p).count() / float(trainingData.count())\n",
    "print(\"Accuracy(training) = \" + str(accuracy_training))\n",
    "x = np.array(labelsAndPreds.collect())"
   ]
  },
  {
   "cell_type": "code",
   "execution_count": 10,
   "metadata": {
    "collapsed": false
   },
   "outputs": [
    {
     "name": "stdout",
     "output_type": "stream",
     "text": [
      "Accuracy(test) = 0.594932779793\n"
     ]
    }
   ],
   "source": [
    "# Evaluating the model on test data\n",
    "labelsAndPreds1 = testData.map(lambda p: (p.label, model.predict(p.features))).cache()\n",
    "accuracy_test = labelsAndPreds1.filter(lambda (v, p): v == p).count() / float(testData.count())\n",
    "print(\"Accuracy(test) = \" + str(accuracy_test))\n",
    "y = np.array(labelsAndPreds1.collect())"
   ]
  },
  {
   "cell_type": "code",
   "execution_count": 11,
   "metadata": {
    "collapsed": true
   },
   "outputs": [],
   "source": [
    "#clearing the threshold for getting scores as prediction.\n",
    "model.clearThreshold()"
   ]
  },
  {
   "cell_type": "code",
   "execution_count": 12,
   "metadata": {
    "collapsed": false
   },
   "outputs": [
    {
     "name": "stdout",
     "output_type": "stream",
     "text": [
      "Training Area under curve  = 0.895549437572\n",
      "Training Area under Precision-Recall = 0.998177061292\n"
     ]
    }
   ],
   "source": [
    "#making an array of true lables and its predicted scores for training data\n",
    "scoreandlabels = np.array(trainingData.map(lambda p: (p.label, model.predict(p.features))).collect())\n",
    "print \"Training Area under curve  = \" + str(roc_auc_score(scoreandlabels[:,0],scoreandlabels[:,1]))\n",
    "print \"Training Area under Precision-Recall = \" + str(average_precision_score(scoreandlabels[:,0],scoreandlabels[:,1]))"
   ]
  },
  {
   "cell_type": "code",
   "execution_count": 13,
   "metadata": {
    "collapsed": false
   },
   "outputs": [
    {
     "name": "stdout",
     "output_type": "stream",
     "text": [
      "Test Area under curve  = 0.893532160068\n",
      "Test Area under Precision-Recall = 0.998157404516\n"
     ]
    }
   ],
   "source": [
    "#making an array of true lables and its predicted scores for test data\n",
    "scoreandlabels1 = np.array(testData.map(lambda p: (p.label, model.predict(p.features))).collect())\n",
    "print \"Test Area under curve  = \" + str(roc_auc_score(scoreandlabels1[:,0],scoreandlabels1[:,1]))\n",
    "print \"Test Area under Precision-Recall = \" + str(average_precision_score(scoreandlabels1[:,0],scoreandlabels1[:,1]))"
   ]
  },
  {
   "cell_type": "code",
   "execution_count": 14,
   "metadata": {
    "collapsed": false
   },
   "outputs": [
    {
     "data": {
      "text/plain": [
       "array([[  4999,    181],\n",
       "       [145316, 210208]])"
      ]
     },
     "execution_count": 14,
     "metadata": {},
     "output_type": "execute_result"
    }
   ],
   "source": [
    "#Making confusion matrix for training data\n",
    "confusion_matrix(x[:,0],x[:,1])"
   ]
  },
  {
   "cell_type": "code",
   "execution_count": 15,
   "metadata": {
    "collapsed": false
   },
   "outputs": [
    {
     "data": {
      "text/plain": [
       "array([[ 2114,    87],\n",
       "       [62553, 89887]])"
      ]
     },
     "execution_count": 15,
     "metadata": {},
     "output_type": "execute_result"
    }
   ],
   "source": [
    "#Making confusion matrix for test data\n",
    "confusion_matrix(y[:,0],y[:,1])"
   ]
  },
  {
   "cell_type": "code",
   "execution_count": null,
   "metadata": {
    "collapsed": true
   },
   "outputs": [],
   "source": []
  }
 ],
 "metadata": {
  "kernelspec": {
   "display_name": "Python 2",
   "language": "python",
   "name": "python2"
  },
  "language_info": {
   "codemirror_mode": {
    "name": "ipython",
    "version": 2
   },
   "file_extension": ".py",
   "mimetype": "text/x-python",
   "name": "python",
   "nbconvert_exporter": "python",
   "pygments_lexer": "ipython2",
   "version": "2.7.9"
  }
 },
 "nbformat": 4,
 "nbformat_minor": 0
}
